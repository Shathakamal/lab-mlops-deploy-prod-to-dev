{
 "cells": [
  {
   "cell_type": "markdown",
   "metadata": {},
   "source": [
    "# LAB | MLOps Deployment from PROD to DEV"
   ]
  },
  {
   "cell_type": "markdown",
   "metadata": {
    "vscode": {
     "languageId": "plaintext"
    }
   },
   "source": [
    "\n",
    "## Objective\n",
    "In this exercise, you will work in pairs to simulate the process of deploying code from a development environment (DEV) to a production environment (PRD). One student will act as the developer pushing code, while the other will be the gatekeeper ensuring the code runs correctly.\n",
    "\n",
    "## Instructions\n",
    "\n",
    "### Step 1: Form Pairs\n",
    "- Split into pairs\n",
    "\n",
    "### Step 2: Developer Role\n",
    "1. **Push Code to Repository**\n",
    "   - Create a new project or use an existing one\n",
    "   - Copy the code to a folder (which will be a git repo in a few minutes)\n",
    "   - Create a venv (see previous class in case you missed something)\n",
    "   - Install all the necessary packages\n",
    "   - Create the requirements.txt file\n",
    "\n",
    "   - Initialize a git repository in your project folder:\n",
    "     ```sh\n",
    "     git init\n",
    "     ```\n",
    "   - Add your project files to the repository - **do not add the venv folder to git**:\n",
    "     ```sh\n",
    "     git add [each_file]\n",
    "     ```\n",
    "\n",
    "   - Commit your changes:\n",
    "     ```sh\n",
    "     git commit -m \"Initial commit\"\n",
    "     ```\n",
    "   - Push your project to a remote git repository (GitHub, GitLab, etc.):\n",
    "     ```sh\n",
    "     git remote add origin <remote-repo-url>\n",
    "     git push -u origin main\n",
    "     ```\n",
    "\n",
    "2. **Create a Pull Request**\n",
    "   - Go to your remote repository and create a pull request (PR).\n",
    "\n",
    "### Step 3: Gatekeeper Role\n",
    "1. **Review and Pull Code**\n",
    "   - Review the pull request created by your partner.\n",
    "   - If everything looks good, merge the pull request.\n",
    "   - Pull the latest changes from the remote repository:\n",
    "     ```sh\n",
    "     git pull origin main\n",
    "     ```\n",
    "\n",
    "2. **Setup Environment**\n",
    "   - Navigate to the project directory.\n",
    "   - Create an empty venv\n",
    "   - Install the required dependencies listed in `requirements.txt`:\n",
    "     ```sh\n",
    "     pip install -r requirements.txt\n",
    "     ```\n",
    "\n",
    "3. **Run the Project**\n",
    "   - Ensure the project runs without errors.\n",
    "   - Provide feedback to the developer if there are any issues.\n",
    "\n",
    "### Step 4: Swap Roles and Repeat\n",
    "- Swap roles and repeat the exercise, so each student gets to be both the developer and the gatekeeper.\n",
    "  - Bonus: to simulate reality, try to do this again outside a video call (via Slack messages for example)\n",
    "\n",
    "### Notes\n",
    "- Ensure clear communication between partners during the process.\n",
    "- Make use of version control best practices.\n",
    "- Document any issues encountered and how they were resolved.\n",
    "\n",
    "## Deliverables\n",
    "- Each pair should have a functioning project that has been successfully reviewed, pulled, and run by the gatekeeper.\n",
    "- A brief report on the process, any challenges faced, and how they were overcome.\n",
    "\n",
    "Good luck and happy coding!\n",
    "\n",
    "\n"
   ]
  },
  {
   "cell_type": "code",
   "execution_count": null,
   "metadata": {},
   "outputs": [
    {
     "ename": "ModuleNotFoundError",
     "evalue": "No module named 'tensorflow'",
     "output_type": "error",
     "traceback": [
      "\u001b[1;31m---------------------------------------------------------------------------\u001b[0m",
      "\u001b[1;31mModuleNotFoundError\u001b[0m                       Traceback (most recent call last)",
      "Cell \u001b[1;32mIn[1], line 3\u001b[0m\n\u001b[0;32m      1\u001b[0m \u001b[38;5;28;01mimport\u001b[39;00m \u001b[38;5;21;01mnumpy\u001b[39;00m \u001b[38;5;28;01mas\u001b[39;00m \u001b[38;5;21;01mnp\u001b[39;00m\n\u001b[0;32m      2\u001b[0m \u001b[38;5;28;01mimport\u001b[39;00m \u001b[38;5;21;01mmatplotlib\u001b[39;00m\u001b[38;5;21;01m.\u001b[39;00m\u001b[38;5;21;01mpyplot\u001b[39;00m \u001b[38;5;28;01mas\u001b[39;00m \u001b[38;5;21;01mplt\u001b[39;00m\n\u001b[1;32m----> 3\u001b[0m \u001b[38;5;28;01mfrom\u001b[39;00m \u001b[38;5;21;01mtensorflow\u001b[39;00m\u001b[38;5;21;01m.\u001b[39;00m\u001b[38;5;21;01mkeras\u001b[39;00m\u001b[38;5;21;01m.\u001b[39;00m\u001b[38;5;21;01mdatasets\u001b[39;00m \u001b[38;5;28;01mimport\u001b[39;00m cifar10\n\u001b[0;32m      4\u001b[0m \u001b[38;5;28;01mfrom\u001b[39;00m \u001b[38;5;21;01mtensorflow\u001b[39;00m\u001b[38;5;21;01m.\u001b[39;00m\u001b[38;5;21;01mkeras\u001b[39;00m\u001b[38;5;21;01m.\u001b[39;00m\u001b[38;5;21;01mutils\u001b[39;00m \u001b[38;5;28;01mimport\u001b[39;00m to_categorical\n\u001b[0;32m      6\u001b[0m \u001b[38;5;66;03m# Load CIFAR-10 dataset\u001b[39;00m\n",
      "\u001b[1;31mModuleNotFoundError\u001b[0m: No module named 'tensorflow'"
     ]
    }
   ],
   "source": []
  },
  {
   "cell_type": "code",
   "execution_count": null,
   "metadata": {},
   "outputs": [],
   "source": [
    "print(\"shatha\")"
   ]
  }
 ],
 "metadata": {
  "kernelspec": {
   "display_name": "base",
   "language": "python",
   "name": "python3"
  },
  "language_info": {
   "codemirror_mode": {
    "name": "ipython",
    "version": 3
   },
   "file_extension": ".py",
   "mimetype": "text/x-python",
   "name": "python",
   "nbconvert_exporter": "python",
   "pygments_lexer": "ipython3",
   "version": "3.12.7"
  }
 },
 "nbformat": 4,
 "nbformat_minor": 2
}
